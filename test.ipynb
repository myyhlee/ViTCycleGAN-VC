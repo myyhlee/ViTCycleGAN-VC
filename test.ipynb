{
 "cells": [
  {
   "cell_type": "code",
   "execution_count": 2,
   "metadata": {},
   "outputs": [
    {
     "name": "stderr",
     "output_type": "stream",
     "text": [
      "/home/yuholee/.conda/envs/Test/lib/python3.9/site-packages/tqdm/auto.py:22: TqdmWarning: IProgress not found. Please update jupyter and ipywidgets. See https://ipywidgets.readthedocs.io/en/stable/user_install.html\n",
      "  from .autonotebook import tqdm as notebook_tqdm\n"
     ]
    }
   ],
   "source": [
    "from PIL import Image\n",
    "import os\n",
    "from torch.utils.data import Dataset\n",
    "import numpy as np\n",
    "import torch\n",
    "import torch.nn as nn\n",
    "from utils import load_pickle_file, save_pickle_file\n",
    "import pickle\n",
    "import config\n",
    "from torch.utils.data import DataLoader\n",
    "import tqdm\n",
    "\n",
    "class MelDataset(Dataset):\n",
    "    def __init__(self, root_x, root_y, transform=None):\n",
    "        self.root_x = root_x\n",
    "        self.root_y = root_y\n",
    "        self.transform = transform\n",
    "\n",
    "        self.x_mels = load_pickle_file(root_x)\n",
    "        self.y_mels = load_pickle_file(root_y)\n",
    "        \n",
    "        self.length_dataset = max(len(self.x_mels), len(self.y_mels)) # 1000, 1500\n",
    "        self.x_len = len(self.x_mels)\n",
    "        self.y_len = len(self.y_mels)\n",
    "\n",
    "    def __len__(self):\n",
    "        return self.length_dataset\n",
    "\n",
    "\n",
    "    def __getitem__(self, index):\n",
    "\n",
    "        x_data = []\n",
    "        y_data = []\n",
    "        \n",
    "\n",
    "            \n",
    "        num1 = 0\n",
    "        num2 = 80\n",
    "        while num2 < self.x_mels[1].shape[0]:\n",
    "            x_data.append(self.x_mels[:, num1:num2])\n",
    "            num1 += 81\n",
    "            num2 += 81\n",
    "\n",
    "        num1 = 0\n",
    "        num2 = 80\n",
    "        while num2 < self.y_mels[1].shape[0]:\n",
    "            y_data.append(self.y_mels[:, num1:num2])\n",
    "            num1 += 81\n",
    "            num2 += 81    \n",
    "\n",
    "        self.x_mel = x_data[index]\n",
    "        self.y_mel = y_data[index]\n",
    "\n",
    "        x_mel = self.x_mel.reshape(1, 80, 80)\n",
    "        y_mel = self.y_mel.reshape(1, 80, 80)\n",
    "\n",
    "        # print(index)\n",
    "        # return x_mel.reshape(1, 80, 80), y_mel.reshape(1, 80, 80)\n",
    "        return x_mel, y_mel"
   ]
  },
  {
   "cell_type": "code",
   "execution_count": 3,
   "metadata": {},
   "outputs": [],
   "source": [
    "x_mels = load_pickle_file(\"/home/yuholee/develop/ViTCycleGAN_Mel/data_KR/train_mel/B_M_14_t/B_M_14_t_normalized_full.pickle\")\n",
    "y_mels = load_pickle_file(\"/home/yuholee/develop/ViTCycleGAN_Mel/data_KR/train_mel/A_F_02_t/A_F_02_t_normalized_full.pickle\")"
   ]
  },
  {
   "cell_type": "code",
   "execution_count": 6,
   "metadata": {},
   "outputs": [
    {
     "name": "stdout",
     "output_type": "stream",
     "text": [
      "idx: 0 torch.Size([5, 1, 80, 80]) torch.Size([5, 1, 80, 80])\n",
      "torch.Size([1, 80, 80])\n",
      "idx: 1 torch.Size([5, 1, 80, 80]) torch.Size([5, 1, 80, 80])\n",
      "torch.Size([1, 80, 80])\n",
      "idx: 2 torch.Size([5, 1, 80, 80]) torch.Size([5, 1, 80, 80])\n",
      "torch.Size([1, 80, 80])\n",
      "idx: 3 torch.Size([5, 1, 80, 80]) torch.Size([5, 1, 80, 80])\n",
      "torch.Size([1, 80, 80])\n",
      "idx: 4 torch.Size([5, 1, 80, 80]) torch.Size([5, 1, 80, 80])\n",
      "torch.Size([1, 80, 80])\n",
      "idx: 5 torch.Size([5, 1, 80, 80]) torch.Size([5, 1, 80, 80])\n",
      "torch.Size([1, 80, 80])\n",
      "idx: 6 torch.Size([5, 1, 80, 80]) torch.Size([5, 1, 80, 80])\n",
      "torch.Size([1, 80, 80])\n",
      "idx: 7 torch.Size([5, 1, 80, 80]) torch.Size([5, 1, 80, 80])\n",
      "torch.Size([1, 80, 80])\n",
      "idx: 8 torch.Size([5, 1, 80, 80]) torch.Size([5, 1, 80, 80])\n",
      "torch.Size([1, 80, 80])\n",
      "idx: 9 torch.Size([5, 1, 80, 80]) torch.Size([5, 1, 80, 80])\n",
      "torch.Size([1, 80, 80])\n",
      "idx: 10 torch.Size([5, 1, 80, 80]) torch.Size([5, 1, 80, 80])\n",
      "torch.Size([1, 80, 80])\n",
      "idx: 11 torch.Size([5, 1, 80, 80]) torch.Size([5, 1, 80, 80])\n",
      "torch.Size([1, 80, 80])\n",
      "idx: 12 torch.Size([5, 1, 80, 80]) torch.Size([5, 1, 80, 80])\n",
      "torch.Size([1, 80, 80])\n",
      "idx: 13 torch.Size([5, 1, 80, 80]) torch.Size([5, 1, 80, 80])\n",
      "torch.Size([1, 80, 80])\n",
      "idx: 14 torch.Size([5, 1, 80, 80]) torch.Size([5, 1, 80, 80])\n",
      "torch.Size([1, 80, 80])\n",
      "idx: 15 torch.Size([5, 1, 80, 80]) torch.Size([5, 1, 80, 80])\n",
      "torch.Size([1, 80, 80])\n"
     ]
    }
   ],
   "source": [
    "dataset = MelDataset(\n",
    "        root_y=\"/home/yuholee/develop/ViTCycleGAN_Mel/data_KR/train_mel/B_M_14_t/B_M_14_t_normalized_full.pickle\", root_x=\"/home/yuholee/develop/ViTCycleGAN_Mel/data_KR/train_mel/A_F_02_t/A_F_02_t_normalized_full.pickle\", transform=None)\n",
    "\n",
    "\n",
    "loader = DataLoader(\n",
    "    dataset,\n",
    "    batch_size=5,\n",
    "    shuffle=False,\n",
    "    num_workers=config.NUM_WORKERS,\n",
    "    pin_memory=True)\n",
    "\n",
    "test_list= []\n",
    "\n",
    "for (idx, (a, b)) in enumerate(loader):\n",
    "    print(f\"idx: {idx}\", a.shape, b.shape)\n",
    "\n",
    "    print(a[0].shape)\n",
    "    test_list.append\n",
    "\n",
    "\n",
    "i = 0\n",
    "while True:\n",
    "    i+=1\n",
    "    print(i)\n",
    "    dataiter = iter(loader)\n",
    "    y, x = dataiter.next()\n",
    "    print(x.size())\n",
    "    print(y.size())\n",
    "    break\n"
   ]
  },
  {
   "cell_type": "code",
   "execution_count": 7,
   "metadata": {},
   "outputs": [
    {
     "name": "stdout",
     "output_type": "stream",
     "text": [
      "1\n",
      "torch.Size([5, 1, 80, 80])\n",
      "torch.Size([5, 1, 80, 80])\n"
     ]
    }
   ],
   "source": [
    "i = 0\n",
    "while True:\n",
    "    i+=1\n",
    "    print(i)\n",
    "    dataiter = iter(loader)\n",
    "    y, x = dataiter.next()\n",
    "    print(x.size())\n",
    "    print(y.size())\n",
    "    break"
   ]
  }
 ],
 "metadata": {
  "kernelspec": {
   "display_name": "Python 3.9.12 ('Test': conda)",
   "language": "python",
   "name": "python3"
  },
  "language_info": {
   "codemirror_mode": {
    "name": "ipython",
    "version": 3
   },
   "file_extension": ".py",
   "mimetype": "text/x-python",
   "name": "python",
   "nbconvert_exporter": "python",
   "pygments_lexer": "ipython3",
   "version": "3.9.12"
  },
  "orig_nbformat": 4,
  "vscode": {
   "interpreter": {
    "hash": "e78f2cc7a1a588825224f765884fc06aba571ea7626f7989873467d7bf86ca4a"
   }
  }
 },
 "nbformat": 4,
 "nbformat_minor": 2
}
